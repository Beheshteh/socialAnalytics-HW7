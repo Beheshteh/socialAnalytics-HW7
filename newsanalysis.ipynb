{
 "cells": [
  {
   "cell_type": "code",
   "execution_count": null,
   "metadata": {
    "collapsed": true
   },
   "outputs": [],
   "source": [
    "## News Mood\n",
    "\n",
    "#In this assignment, you'll create a Python script to perform a sentiment analysis of the Twitter activity \n",
    "#of various news oulets, and to present your findings visually.\n",
    "\n",
    "#Your final output should provide a visualized summary of the sentiments expressed in Tweets sent out by \n",
    "#the following news organizations: __BBC, CBS, CNN, Fox, and New York times__.\n",
    "\n",
    "#The first plot will be and/or feature the following:\n",
    "\n",
    "# 1. Be a scatter plot of sentiments of the last __100__ tweets sent out by each news organization,\n",
    "# ranging from -1.0 to 1.0, where a score of 0 expresses a neutral sentiment, -1 the most negative\n",
    "# sentiment possible, and +1 the most positive sentiment possible.\n",
    "# 2. Each plot point will reflect the _compound_ sentiment of a tweet.\n",
    "# 3. Sort each plot point by its relative timestamp.\n",
    "\n",
    "#The second plot will be a bar plot visualizing the _overall_ sentiments of the last 100 tweets from each\n",
    "#organization. For this plot, you will again aggregate the compound sentiments analyzed by VADER.\n",
    "\n",
    "# As final considerations:\n",
    "\n",
    "# Use the Matplotlib and Seaborn libraries.\n",
    "# Include a written description of three observable trends based on the data. \n",
    "# Include proper labeling of your plots, including plot titles (with date of analysis) and axes labels.\n",
    "# Include an exported markdown version of your Notebook called  `README.md` in your GitHub repository.  \n",
    "\n"
   ]
  },
  {
   "cell_type": "code",
   "execution_count": 1,
   "metadata": {
    "collapsed": true
   },
   "outputs": [],
   "source": [
    "# Dependencies\n",
    "import tweepy\n",
    "import json\n",
    "import numpy as np\n",
    "import pandas as pd\n",
    "import matplotlib.pyplot as plt\n",
    "from datetime import datetime\n",
    "\n",
    "# Import and Initialize Sentiment Analyzer\n",
    "from vaderSentiment.vaderSentiment import SentimentIntensityAnalyzer\n",
    "analyzer = SentimentIntensityAnalyzer()\n",
    "\n",
    "# Twitter API Keys\n",
    "consumer_key = 'HZxj2qcAJZ2R3zAa2cU3HNqWe'\n",
    "consumer_secret = '0lbOORr4xizTCF0xRsNFmjzIM1g84f4ZneeyWgP9TTYVMvkp2z'\n",
    "access_token = '942947132796944384-GHrQUnjFYUvUw7LGMO7hApR9DvJcz0l'\n",
    "access_token_secret = 'ssm9sSjlsjYLkodD0mHtgOi1vtfSaAyi2Gc3a4tvcY43X'\n",
    "\n",
    "# Setup Tweepy API Authentication\n",
    "auth = tweepy.OAuthHandler(consumer_key, consumer_secret)\n",
    "auth.set_access_token(access_token, access_token_secret)\n",
    "api = tweepy.API(auth, parser=tweepy.parsers.JSONParser())\n"
   ]
  },
  {
   "cell_type": "code",
   "execution_count": 2,
   "metadata": {
    "collapsed": true
   },
   "outputs": [],
   "source": [
    "# Pull last 100 tweets from: BBC, CBS, CNN, Fox, and New York times\n",
    "# Perform a sentiment analysis with the compound, positive, neutral, and negative scoring for each tweet. \n",
    "\n",
    "target_user_list =[\"@BBC\", \"@CBS\", \"@CNN\", \"@Fox\", \"@NYT\"]\n",
    "\n",
    "# Variables for holding information and sentiments\n",
    "account_list = []\n",
    "text_list = []\n",
    "date_list = []\n",
    "compound_list = []\n",
    "positive_list = []\n",
    "negative_list = []\n",
    "neutral_list = []\n",
    "\n",
    "# Loop through list of target users\n",
    "for target_user in target_user_list:\n",
    "    \n",
    "    # Loop through 5 pages of tweets (total 100 tweets)\n",
    "    for x in range(5):\n",
    "        \n",
    "        # Get all tweets from home feed\n",
    "        public_tweets = api.user_timeline(target_user, page=x)\n",
    "\n",
    "        # Loop through all tweets\n",
    "        for tweet in public_tweets:\n",
    "            \n",
    "            #print(tweet[\"text\"].lower())\n",
    "            \n",
    "            # Analyze the sentiment of the tweet\n",
    "            compound = analyzer.polarity_scores(tweet[\"text\"])[\"compound\"]\n",
    "            pos = analyzer.polarity_scores(tweet[\"text\"])[\"pos\"]\n",
    "            neu = analyzer.polarity_scores(tweet[\"text\"])[\"neu\"]\n",
    "            neg = analyzer.polarity_scores(tweet[\"text\"])[\"neg\"]\n",
    "\n",
    "            # Add the sentiment analyses to the respective lists\n",
    "            account_list.append(target_user)\n",
    "            text_list.append(tweet[\"text\"].lower())\n",
    "            date_list.append(tweet[\"created_at\"])\n",
    "            compound_list.append(compound)\n",
    "            positive_list.append(pos)\n",
    "            negative_list.append(neu)\n",
    "            neutral_list.append(neg)\n",
    "            \n",
    "          "
   ]
  },
  {
   "cell_type": "code",
   "execution_count": 3,
   "metadata": {},
   "outputs": [
    {
     "data": {
      "text/html": [
       "<div>\n",
       "<style>\n",
       "    .dataframe thead tr:only-child th {\n",
       "        text-align: right;\n",
       "    }\n",
       "\n",
       "    .dataframe thead th {\n",
       "        text-align: left;\n",
       "    }\n",
       "\n",
       "    .dataframe tbody tr th {\n",
       "        vertical-align: top;\n",
       "    }\n",
       "</style>\n",
       "<table border=\"1\" class=\"dataframe\">\n",
       "  <thead>\n",
       "    <tr style=\"text-align: right;\">\n",
       "      <th></th>\n",
       "      <th>Compound</th>\n",
       "      <th>Date</th>\n",
       "      <th>Negative</th>\n",
       "      <th>Neutral</th>\n",
       "      <th>Positive</th>\n",
       "      <th>Tweet_account</th>\n",
       "      <th>text</th>\n",
       "    </tr>\n",
       "  </thead>\n",
       "  <tbody>\n",
       "    <tr>\n",
       "      <th>0</th>\n",
       "      <td>0.0000</td>\n",
       "      <td>Mon Jan 08 19:37:04 +0000 2018</td>\n",
       "      <td>1.000</td>\n",
       "      <td>0.000</td>\n",
       "      <td>0.000</td>\n",
       "      <td>@BBC</td>\n",
       "      <td>tonight, go beyond the theatre doors and disco...</td>\n",
       "    </tr>\n",
       "    <tr>\n",
       "      <th>1</th>\n",
       "      <td>0.1779</td>\n",
       "      <td>Mon Jan 08 19:02:01 +0000 2018</td>\n",
       "      <td>0.793</td>\n",
       "      <td>0.088</td>\n",
       "      <td>0.119</td>\n",
       "      <td>@BBC</td>\n",
       "      <td>🦌❄ the moment a moose, which got stuck up to i...</td>\n",
       "    </tr>\n",
       "    <tr>\n",
       "      <th>2</th>\n",
       "      <td>-0.1260</td>\n",
       "      <td>Mon Jan 08 18:32:04 +0000 2018</td>\n",
       "      <td>0.923</td>\n",
       "      <td>0.077</td>\n",
       "      <td>0.000</td>\n",
       "      <td>@BBC</td>\n",
       "      <td>🏝😁 this year you can get 24 days off in a row ...</td>\n",
       "    </tr>\n",
       "    <tr>\n",
       "      <th>3</th>\n",
       "      <td>0.0000</td>\n",
       "      <td>Mon Jan 08 18:02:04 +0000 2018</td>\n",
       "      <td>1.000</td>\n",
       "      <td>0.000</td>\n",
       "      <td>0.000</td>\n",
       "      <td>@BBC</td>\n",
       "      <td>🎒📚 it was a big day for princess charlotte tod...</td>\n",
       "    </tr>\n",
       "    <tr>\n",
       "      <th>4</th>\n",
       "      <td>0.0000</td>\n",
       "      <td>Mon Jan 08 17:30:06 +0000 2018</td>\n",
       "      <td>1.000</td>\n",
       "      <td>0.000</td>\n",
       "      <td>0.000</td>\n",
       "      <td>@BBC</td>\n",
       "      <td>♿✈this mum is taking on the global airline ind...</td>\n",
       "    </tr>\n",
       "  </tbody>\n",
       "</table>\n",
       "</div>"
      ],
      "text/plain": [
       "   Compound                            Date  Negative  Neutral  Positive  \\\n",
       "0    0.0000  Mon Jan 08 19:37:04 +0000 2018     1.000    0.000     0.000   \n",
       "1    0.1779  Mon Jan 08 19:02:01 +0000 2018     0.793    0.088     0.119   \n",
       "2   -0.1260  Mon Jan 08 18:32:04 +0000 2018     0.923    0.077     0.000   \n",
       "3    0.0000  Mon Jan 08 18:02:04 +0000 2018     1.000    0.000     0.000   \n",
       "4    0.0000  Mon Jan 08 17:30:06 +0000 2018     1.000    0.000     0.000   \n",
       "\n",
       "  Tweet_account                                               text  \n",
       "0          @BBC  tonight, go beyond the theatre doors and disco...  \n",
       "1          @BBC  🦌❄ the moment a moose, which got stuck up to i...  \n",
       "2          @BBC  🏝😁 this year you can get 24 days off in a row ...  \n",
       "3          @BBC  🎒📚 it was a big day for princess charlotte tod...  \n",
       "4          @BBC  ♿✈this mum is taking on the global airline ind...  "
      ]
     },
     "execution_count": 3,
     "metadata": {},
     "output_type": "execute_result"
    }
   ],
   "source": [
    "# Pull into a DataFrame the tweet's source acount, its text, its date, and its compound, positive, neutral, \n",
    "# and negative sentiment scores.\n",
    "# Export the data in the DataFrame into a CSV file.\n",
    "\n",
    "newsanalysis_data = {\"Tweet_account\": account_list,\n",
    "                     \"text\": text_list,\n",
    "                     \"Date\": date_list,\n",
    "                     \"Compound\": compound_list, \n",
    "                     \"Positive\": positive_list, \n",
    "                     \"Neutral\":neutral_list,\n",
    "                     \"Negative\": negative_list }\n",
    "\n",
    "newsanalysis_data = pd.DataFrame(newsanalysis_data)\n",
    "\n",
    "#write all the info in the csv file\n",
    "newsanalysis_data.to_csv('newsanalysisfile.csv', index=True, header=True)\n",
    "        \n",
    "newsanalysis_data.head(5)\n"
   ]
  },
  {
   "cell_type": "code",
   "execution_count": 4,
   "metadata": {},
   "outputs": [
    {
     "name": "stderr",
     "output_type": "stream",
     "text": [
      "C:\\Users\\Beheshteh\\Anaconda3\\lib\\site-packages\\matplotlib\\cbook\\deprecation.py:106: MatplotlibDeprecationWarning: Adding an axes using the same arguments as a previous axes currently reuses the earlier instance.  In a future version, a new instance will always be created and returned.  Meanwhile, this warning can be suppressed, and the future behavior ensured, by passing a unique label to each axes instance.\n",
      "  warnings.warn(message, mplDeprecation, stacklevel=1)\n"
     ]
    },
    {
     "data": {
      "image/png": "[encoded data removed]",
      "text/plain": [
       "<matplotlib.figure.Figure at 0x1fd45a4ecf8>"
      ]
     },
     "metadata": {},
     "output_type": "display_data"
    }
   ],
   "source": [
    "#The first plot will be and/or feature the following:\n",
    "\n",
    "# 1. Be a scatter plot of sentiments of the last __100__ tweets sent out by each news organization,\n",
    "# ranging from -1.0 to 1.0, where a score of 0 expresses a neutral sentiment, -1 the most negative\n",
    "# sentiment possible, and +1 the most positive sentiment possible.\n",
    "# 2. Each plot point will reflect the _compound_ sentiment of a tweet.\n",
    "# 3. Sort each plot point by its relative timestamp.\n",
    "\n",
    "# Save PNG images for each plot.\n",
    "\n",
    "colors = ['r', 'b', 'g', 'm', 'y']\n",
    "fig = plt.figure() \n",
    "colorcount = 0\n",
    "\n",
    "for user in target_user_list:\n",
    "    \n",
    "    ax1 = fig.add_subplot(111)\n",
    "    user_account = newsanalysis_data[newsanalysis_data.Tweet_account == user]\n",
    "    compound =  user_account[\"Compound\"]\n",
    "    \n",
    "    ax1.scatter(range(len(compound)), compound,\n",
    "                marker=\"o\", color=colors[colorcount], alpha=0.6, label= user) \n",
    "        \n",
    "    colorcount += 1\n",
    "\n",
    "# Incorporate the other graph properties\n",
    "ax1.set_title(\"Sentiment Analysis of media tweet \" + newsanalysis_data[\"Date\"][1])   \n",
    "ax1.set_xlabel(\"Tweet Ago\")\n",
    "ax1.set_ylabel(\"Tweet Polarity\")\n",
    "ax1.legend(loc='upper left', bbox_to_anchor=(1,.05),\n",
    "          ncol=1, fancybox=True, shadow=True)\n",
    "\n",
    "\n",
    "plt.savefig(\"output_newsAnalysis.png\")\n",
    "plt.show()"
   ]
  },
  {
   "cell_type": "code",
   "execution_count": 5,
   "metadata": {},
   "outputs": [
    {
     "data": {
      "image/png": "[encoded data removed]",
      "text/plain": [
       "<matplotlib.figure.Figure at 0x1fd46b4dba8>"
      ]
     },
     "metadata": {},
     "output_type": "display_data"
    }
   ],
   "source": [
    "#The second plot will be a bar plot visualizing the _overall_ sentiments of the last 100 tweets from each\n",
    "#organization. For this plot, you will again aggregate the compound sentiments analyzed by VADER.\n",
    "\n",
    "fig = plt.figure()\n",
    "tick_locations = 0\n",
    "colorcount = 0\n",
    "\n",
    "for user in target_user_list:\n",
    "    \n",
    "    user_account = newsanalysis_data[newsanalysis_data.Tweet_account == user]\n",
    "    compound_avar =  user_account[\"Compound\"].mean()\n",
    "    \n",
    "    plt.bar(tick_locations, round(compound_avar, 3), alpha=0.5, color=colors[colorcount], align='center')    \n",
    "    plt.text(tick_locations, 0.009, str(round(compound_avar, 3)), ha = 'center', color='black')\n",
    "                 \n",
    "    tick_locations +=1\n",
    "    colorcount += 1\n",
    "    \n",
    "    \n",
    "tick_locations = np.arange(len(target_user_list))\n",
    "\n",
    "plt.axhline(y=0, color = 'black') #adds a horizontal line at zero\n",
    "plt.xticks(tick_locations, target_user_list)\n",
    "plt.ylabel('Tweet polarity')\n",
    "plt.title(\"overal media sentiment based on tweet \" + datetime.now().strftime(\"%I:%M %p\"))        \n",
    "plt.savefig(\"output_newsAnalysis_bargraph.png\")\n",
    "plt.show()\n",
    "    "
   ]
  },
  {
   "cell_type": "code",
   "execution_count": null,
   "metadata": {
    "collapsed": true
   },
   "outputs": [],
   "source": []
  },
  {
   "cell_type": "code",
   "execution_count": null,
   "metadata": {
    "collapsed": true
   },
   "outputs": [],
   "source": []
  }
 ],
 "metadata": {
  "kernelspec": {
   "display_name": "Python 3",
   "language": "python",
   "name": "python3"
  },
  "language_info": {
   "codemirror_mode": {
    "name": "ipython",
    "version": 3
   },
   "file_extension": ".py",
   "mimetype": "text/x-python",
   "name": "python",
   "nbconvert_exporter": "python",
   "pygments_lexer": "ipython3",
   "version": "3.6.3"
  }
 },
 "nbformat": 4,
 "nbformat_minor": 2
}
